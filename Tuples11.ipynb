{
  "nbformat": 4,
  "nbformat_minor": 0,
  "metadata": {
    "colab": {
      "provenance": [],
      "authorship_tag": "ABX9TyPzDTspWlflLirT8whhLjz6",
      "include_colab_link": true
    },
    "kernelspec": {
      "name": "python3",
      "display_name": "Python 3"
    },
    "language_info": {
      "name": "python"
    }
  },
  "cells": [
    {
      "cell_type": "markdown",
      "metadata": {
        "id": "view-in-github",
        "colab_type": "text"
      },
      "source": [
        "<a href=\"https://colab.research.google.com/github/Abby0822/BSIS2-DV-LAB9-ABBY/blob/BSIS2-DV-LAB1-ABBY/Tuples11.ipynb\" target=\"_parent\"><img src=\"https://colab.research.google.com/assets/colab-badge.svg\" alt=\"Open In Colab\"/></a>"
      ]
    },
    {
      "cell_type": "code",
      "source": [
        "friends = ('Abigail', 'Mellisa', 'Jennifer', 'Leonila', 'Kristine')\n",
        "for index, friend in enumerate(friends):\n",
        " print(index,friend)"
      ],
      "metadata": {
        "colab": {
          "base_uri": "https://localhost:8080/"
        },
        "id": "08Fc5LwXrSUe",
        "outputId": "69498b28-11b6-4385-98cb-ec57537e7ce5"
      },
      "execution_count": 35,
      "outputs": [
        {
          "output_type": "stream",
          "name": "stdout",
          "text": [
            "0 Abigail\n",
            "1 Mellisa\n",
            "2 Jennifer\n",
            "3 Leonila\n",
            "4 Kristine\n"
          ]
        }
      ]
    }
  ]
}