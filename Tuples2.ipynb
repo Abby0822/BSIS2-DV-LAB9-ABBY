{
  "nbformat": 4,
  "nbformat_minor": 0,
  "metadata": {
    "colab": {
      "provenance": [],
      "authorship_tag": "ABX9TyMKogbLWLBxrSDwG/Pj22NH",
      "include_colab_link": true
    },
    "kernelspec": {
      "name": "python3",
      "display_name": "Python 3"
    },
    "language_info": {
      "name": "python"
    }
  },
  "cells": [
    {
      "cell_type": "markdown",
      "metadata": {
        "id": "view-in-github",
        "colab_type": "text"
      },
      "source": [
        "<a href=\"https://colab.research.google.com/github/Abby0822/BSIS2-DV-LAB9-ABBY/blob/BSIS2-DV-LAB1-ABBY/Tuples2.ipynb\" target=\"_parent\"><img src=\"https://colab.research.google.com/assets/colab-badge.svg\" alt=\"Open In Colab\"/></a>"
      ]
    },
    {
      "cell_type": "code",
      "source": [
        "# tuple with one value\n",
        "tup1 = ('Abigail',)\n",
        "# tuple with one value\n",
        "tup2 = 'Abigail', \n",
        "# This is a string, NOT a tuple.\n",
        "notTuple = ('Abigail')\n",
        "print(type(notTuple) )"
      ],
      "metadata": {
        "colab": {
          "base_uri": "https://localhost:8080/"
        },
        "id": "CbcIvbg3nDPZ",
        "outputId": "f4eccc02-5823-4ab5-b0d0-7b2fea99a034"
      },
      "execution_count": 12,
      "outputs": [
        {
          "output_type": "stream",
          "name": "stdout",
          "text": [
            "<class 'str'>\n"
          ]
        }
      ]
    },
    {
      "cell_type": "code",
      "source": [],
      "metadata": {
        "id": "7yfD5aotnDny"
      },
      "execution_count": null,
      "outputs": []
    }
  ]
}