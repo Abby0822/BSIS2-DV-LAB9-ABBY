{
  "nbformat": 4,
  "nbformat_minor": 0,
  "metadata": {
    "colab": {
      "provenance": [],
      "authorship_tag": "ABX9TyPi+f8padkZhENnP+1OFfuf",
      "include_colab_link": true
    },
    "kernelspec": {
      "name": "python3",
      "display_name": "Python 3"
    },
    "language_info": {
      "name": "python"
    }
  },
  "cells": [
    {
      "cell_type": "markdown",
      "metadata": {
        "id": "view-in-github",
        "colab_type": "text"
      },
      "source": [
        "<a href=\"https://colab.research.google.com/github/Abby0822/BSIS2-DV-LAB9-ABBY/blob/BSIS2-DV-LAB1-ABBY/Tuples6.ipynb\" target=\"_parent\"><img src=\"https://colab.research.google.com/assets/colab-badge.svg\" alt=\"Open In Colab\"/></a>"
      ]
    },
    {
      "cell_type": "code",
      "source": [
        "# Initialize a tuple\n",
        "z = (1, 22, 8, 10)\n",
        "# first index is inclusive (before the :) and last (after the :) is not.\n",
        "print(z[:3])"
      ],
      "metadata": {
        "colab": {
          "base_uri": "https://localhost:8080/"
        },
        "id": "wCDYTQt6o8zS",
        "outputId": "f6df6894-982c-4f32-bf33-d31fad8c1f20"
      },
      "execution_count": 24,
      "outputs": [
        {
          "output_type": "stream",
          "name": "stdout",
          "text": [
            "(1, 22, 8)\n"
          ]
        }
      ]
    }
  ]
}