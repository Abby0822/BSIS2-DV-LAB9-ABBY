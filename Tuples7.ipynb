{
  "nbformat": 4,
  "nbformat_minor": 0,
  "metadata": {
    "colab": {
      "provenance": [],
      "authorship_tag": "ABX9TyMBHbFKOkFs8GfD3hha6ZwN",
      "include_colab_link": true
    },
    "kernelspec": {
      "name": "python3",
      "display_name": "Python 3"
    },
    "language_info": {
      "name": "python"
    }
  },
  "cells": [
    {
      "cell_type": "markdown",
      "metadata": {
        "id": "view-in-github",
        "colab_type": "text"
      },
      "source": [
        "<a href=\"https://colab.research.google.com/github/Abby0822/BSIS2-DV-LAB9-ABBY/blob/BSIS2-DV-LAB1-ABBY/Tuples7.ipynb\" target=\"_parent\"><img src=\"https://colab.research.google.com/assets/colab-badge.svg\" alt=\"Open In Colab\"/></a>"
      ]
    },
    {
      "cell_type": "code",
      "source": [
        "# Initialize a tuple\n",
        "z = (1, 22, 8, 10)\n",
        "# first index is inclusive (before the :) and last (after the :) is not.\n",
        "print(z[-4:-1])"
      ],
      "metadata": {
        "colab": {
          "base_uri": "https://localhost:8080/"
        },
        "id": "hzStuvk0pTQ6",
        "outputId": "d9c9121f-9c64-4d87-c63c-4a662fee6324"
      },
      "execution_count": 26,
      "outputs": [
        {
          "output_type": "stream",
          "name": "stdout",
          "text": [
            "(1, 22, 8)\n"
          ]
        }
      ]
    }
  ]
}