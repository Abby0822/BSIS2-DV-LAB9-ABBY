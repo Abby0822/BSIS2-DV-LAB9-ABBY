{
  "nbformat": 4,
  "nbformat_minor": 0,
  "metadata": {
    "colab": {
      "provenance": [],
      "authorship_tag": "ABX9TyOvG0B2UTGMALe2QFyGJYUw",
      "include_colab_link": true
    },
    "kernelspec": {
      "name": "python3",
      "display_name": "Python 3"
    },
    "language_info": {
      "name": "python"
    }
  },
  "cells": [
    {
      "cell_type": "markdown",
      "metadata": {
        "id": "view-in-github",
        "colab_type": "text"
      },
      "source": [
        "<a href=\"https://colab.research.google.com/github/Abby0822/BSIS2-DV-LAB9-ABBY/blob/BSIS2-DV-LAB1-ABBY/Tuples8.ipynb\" target=\"_parent\"><img src=\"https://colab.research.google.com/assets/colab-badge.svg\" alt=\"Open In Colab\"/></a>"
      ]
    },
    {
      "cell_type": "code",
      "source": [
        "# Initialize tuple\n",
        "tup1 = ('Python', 'SQL')\n",
        "# Initialize another Tuple\n",
        "tup2 = ('R',)\n",
        "# Create new tuple based on existing tuples\n",
        "new_tuple = tup1 + tup2;\n",
        "print(new_tuple)"
      ],
      "metadata": {
        "colab": {
          "base_uri": "https://localhost:8080/"
        },
        "id": "NKjxC9oYpqR5",
        "outputId": "05ff7272-2b45-4a34-a515-e2e6be84b126"
      },
      "execution_count": 28,
      "outputs": [
        {
          "output_type": "stream",
          "name": "stdout",
          "text": [
            "('Python', 'SQL', 'R')\n"
          ]
        }
      ]
    },
    {
      "cell_type": "code",
      "source": [],
      "metadata": {
        "id": "UK_JGBOjpqd9"
      },
      "execution_count": null,
      "outputs": []
    }
  ]
}