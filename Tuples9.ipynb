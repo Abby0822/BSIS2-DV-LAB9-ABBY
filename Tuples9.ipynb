{
  "nbformat": 4,
  "nbformat_minor": 0,
  "metadata": {
    "colab": {
      "provenance": [],
      "authorship_tag": "ABX9TyMtnKN4jy6t+gpFLxpzkL3u",
      "include_colab_link": true
    },
    "kernelspec": {
      "name": "python3",
      "display_name": "Python 3"
    },
    "language_info": {
      "name": "python"
    }
  },
  "cells": [
    {
      "cell_type": "markdown",
      "metadata": {
        "id": "view-in-github",
        "colab_type": "text"
      },
      "source": [
        "<a href=\"https://colab.research.google.com/github/Abby0822/BSIS2-DV-LAB9-ABBY/blob/BSIS2-DV-LAB1-ABBY/Tuples9.ipynb\" target=\"_parent\"><img src=\"https://colab.research.google.com/assets/colab-badge.svg\" alt=\"Open In Colab\"/></a>"
      ]
    },
    {
      "cell_type": "code",
      "source": [
        "# Unpack each value in tuple\n",
        "# first item in tuple will be assigned to a\n",
        "# second item in tuple will be assigned to b\n",
        "# third item in tuple will be assigned to c\n",
        "# fourth item in tuple will be assigned to d\n",
        "a, b, c, d = (1, 22, 8, 10)\n",
        "print(a)\n",
        "print(b)\n",
        "print(c)\n",
        "print(d)"
      ],
      "metadata": {
        "colab": {
          "base_uri": "https://localhost:8080/"
        },
        "id": "26RSwhk4qpK4",
        "outputId": "0208a9e5-8532-45ca-a2ed-dbd3e61f3a9d"
      },
      "execution_count": 31,
      "outputs": [
        {
          "output_type": "stream",
          "name": "stdout",
          "text": [
            "1\n",
            "22\n",
            "8\n",
            "10\n"
          ]
        }
      ]
    }
  ]
}